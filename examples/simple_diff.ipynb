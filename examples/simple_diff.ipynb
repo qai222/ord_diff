{
 "cells": [
  {
   "cell_type": "code",
   "execution_count": 1,
   "id": "initial_id",
   "metadata": {
    "collapsed": true,
    "ExecuteTime": {
     "end_time": "2023-10-11T20:52:55.237280545Z",
     "start_time": "2023-10-11T20:52:55.022201057Z"
    }
   },
   "outputs": [
    {
     "data": {
      "text/plain": "1954"
     },
     "execution_count": 1,
     "metadata": {},
     "output_type": "execute_result"
    }
   ],
   "source": [
    "from ord_diff.specific_message.compound import get_compound_list_leaf_diff\n",
    "\n",
    "import json\n",
    "\n",
    "from google.protobuf import json_format\n",
    "from ord_schema.proto import reaction_pb2\n",
    "from ord_diff.base import OrdDiff, OrdListDiff\n",
    "\n",
    "with open(\"../tests/pairs_20230731.json\", \"r\") as f:\n",
    "    data = json.load(f)\n",
    "len(data)"
   ]
  },
  {
   "cell_type": "code",
   "execution_count": 2,
   "outputs": [
    {
     "name": "stdout",
     "output_type": "stream",
     "text": [
      "excess compounds in list #2: 0\n",
      "absent compounds in list #1: 0\n",
      "altered compounds (based on list #1): 2\n"
     ]
    }
   ],
   "source": [
    "i = 22\n",
    "reaction_id, reaction_string_1, reaction_string_2 = data[i]\n",
    "message_1 = json_format.Parse(reaction_string_1, reaction_pb2.Reaction())\n",
    "message_2 = json_format.Parse(reaction_string_2, reaction_pb2.Reaction())\n",
    "# compare compounds in inputs\n",
    "input_compounds_1 = []\n",
    "for ri in message_1.inputs.values():\n",
    "    input_compounds_1.extend(ri.components)\n",
    "input_compounds_2 = []\n",
    "for ri in message_2.inputs.values():\n",
    "    input_compounds_2.extend(ri.components)\n",
    "diff = OrdListDiff.from_ord(input_compounds_1, input_compounds_2)\n",
    "print(\"excess compounds in list #2:\", diff.n_excess)\n",
    "print(\"absent compounds in list #1:\", diff.n_absent)\n",
    "print(\"altered compounds (based on list #1):\", diff.n_changed)"
   ],
   "metadata": {
    "collapsed": false,
    "ExecuteTime": {
     "end_time": "2023-10-11T20:52:55.268948430Z",
     "start_time": "2023-10-11T20:52:55.234452326Z"
    }
   },
   "id": "4e99c69ea50eab94"
  },
  {
   "cell_type": "code",
   "execution_count": 3,
   "outputs": [
    {
     "data": {
      "text/plain": "   from                 path                       leaf_type  \\\n0    m1   identifiers.0.type    CompoundLeafType.identifiers   \n1    m1  identifiers.0.value    CompoundLeafType.identifiers   \n2    m1    amount.mass.value         CompoundLeafType.amount   \n3    m1    amount.mass.units         CompoundLeafType.amount   \n4    m1         reactionRole  CompoundLeafType.reaction_role   \n5    m1   identifiers.0.type    CompoundLeafType.identifiers   \n6    m1  identifiers.0.value    CompoundLeafType.identifiers   \n7    m1  amount.volume.value         CompoundLeafType.amount   \n8    m1  amount.volume.units         CompoundLeafType.amount   \n9    m1         reactionRole  CompoundLeafType.reaction_role   \n10   m1   identifiers.0.type    CompoundLeafType.identifiers   \n11   m1  identifiers.0.value    CompoundLeafType.identifiers   \n12   m1   amount.moles.value         CompoundLeafType.amount   \n13   m1   amount.moles.units         CompoundLeafType.amount   \n14   m1         reactionRole  CompoundLeafType.reaction_role   \n15   m1   identifiers.0.type    CompoundLeafType.identifiers   \n16   m1  identifiers.0.value    CompoundLeafType.identifiers   \n17   m1   amount.moles.value         CompoundLeafType.amount   \n18   m1   amount.moles.units         CompoundLeafType.amount   \n19   m1         reactionRole  CompoundLeafType.reaction_role   \n\n             change_type  pair_index  \n0                   None           0  \n1                   None           0  \n2                   None           0  \n3                   None           0  \n4                   None           0  \n5                   None           1  \n6                   None           1  \n7                   None           1  \n8                   None           1  \n9   DeltaType.ALTERATION           1  \n10                  None           2  \n11                  None           2  \n12                  None           2  \n13                  None           2  \n14                  None           2  \n15                  None           3  \n16                  None           3  \n17  DeltaType.ALTERATION           3  \n18                  None           3  \n19                  None           3  ",
      "text/html": "<div>\n<style scoped>\n    .dataframe tbody tr th:only-of-type {\n        vertical-align: middle;\n    }\n\n    .dataframe tbody tr th {\n        vertical-align: top;\n    }\n\n    .dataframe thead th {\n        text-align: right;\n    }\n</style>\n<table border=\"1\" class=\"dataframe\">\n  <thead>\n    <tr style=\"text-align: right;\">\n      <th></th>\n      <th>from</th>\n      <th>path</th>\n      <th>leaf_type</th>\n      <th>change_type</th>\n      <th>pair_index</th>\n    </tr>\n  </thead>\n  <tbody>\n    <tr>\n      <th>0</th>\n      <td>m1</td>\n      <td>identifiers.0.type</td>\n      <td>CompoundLeafType.identifiers</td>\n      <td>None</td>\n      <td>0</td>\n    </tr>\n    <tr>\n      <th>1</th>\n      <td>m1</td>\n      <td>identifiers.0.value</td>\n      <td>CompoundLeafType.identifiers</td>\n      <td>None</td>\n      <td>0</td>\n    </tr>\n    <tr>\n      <th>2</th>\n      <td>m1</td>\n      <td>amount.mass.value</td>\n      <td>CompoundLeafType.amount</td>\n      <td>None</td>\n      <td>0</td>\n    </tr>\n    <tr>\n      <th>3</th>\n      <td>m1</td>\n      <td>amount.mass.units</td>\n      <td>CompoundLeafType.amount</td>\n      <td>None</td>\n      <td>0</td>\n    </tr>\n    <tr>\n      <th>4</th>\n      <td>m1</td>\n      <td>reactionRole</td>\n      <td>CompoundLeafType.reaction_role</td>\n      <td>None</td>\n      <td>0</td>\n    </tr>\n    <tr>\n      <th>5</th>\n      <td>m1</td>\n      <td>identifiers.0.type</td>\n      <td>CompoundLeafType.identifiers</td>\n      <td>None</td>\n      <td>1</td>\n    </tr>\n    <tr>\n      <th>6</th>\n      <td>m1</td>\n      <td>identifiers.0.value</td>\n      <td>CompoundLeafType.identifiers</td>\n      <td>None</td>\n      <td>1</td>\n    </tr>\n    <tr>\n      <th>7</th>\n      <td>m1</td>\n      <td>amount.volume.value</td>\n      <td>CompoundLeafType.amount</td>\n      <td>None</td>\n      <td>1</td>\n    </tr>\n    <tr>\n      <th>8</th>\n      <td>m1</td>\n      <td>amount.volume.units</td>\n      <td>CompoundLeafType.amount</td>\n      <td>None</td>\n      <td>1</td>\n    </tr>\n    <tr>\n      <th>9</th>\n      <td>m1</td>\n      <td>reactionRole</td>\n      <td>CompoundLeafType.reaction_role</td>\n      <td>DeltaType.ALTERATION</td>\n      <td>1</td>\n    </tr>\n    <tr>\n      <th>10</th>\n      <td>m1</td>\n      <td>identifiers.0.type</td>\n      <td>CompoundLeafType.identifiers</td>\n      <td>None</td>\n      <td>2</td>\n    </tr>\n    <tr>\n      <th>11</th>\n      <td>m1</td>\n      <td>identifiers.0.value</td>\n      <td>CompoundLeafType.identifiers</td>\n      <td>None</td>\n      <td>2</td>\n    </tr>\n    <tr>\n      <th>12</th>\n      <td>m1</td>\n      <td>amount.moles.value</td>\n      <td>CompoundLeafType.amount</td>\n      <td>None</td>\n      <td>2</td>\n    </tr>\n    <tr>\n      <th>13</th>\n      <td>m1</td>\n      <td>amount.moles.units</td>\n      <td>CompoundLeafType.amount</td>\n      <td>None</td>\n      <td>2</td>\n    </tr>\n    <tr>\n      <th>14</th>\n      <td>m1</td>\n      <td>reactionRole</td>\n      <td>CompoundLeafType.reaction_role</td>\n      <td>None</td>\n      <td>2</td>\n    </tr>\n    <tr>\n      <th>15</th>\n      <td>m1</td>\n      <td>identifiers.0.type</td>\n      <td>CompoundLeafType.identifiers</td>\n      <td>None</td>\n      <td>3</td>\n    </tr>\n    <tr>\n      <th>16</th>\n      <td>m1</td>\n      <td>identifiers.0.value</td>\n      <td>CompoundLeafType.identifiers</td>\n      <td>None</td>\n      <td>3</td>\n    </tr>\n    <tr>\n      <th>17</th>\n      <td>m1</td>\n      <td>amount.moles.value</td>\n      <td>CompoundLeafType.amount</td>\n      <td>DeltaType.ALTERATION</td>\n      <td>3</td>\n    </tr>\n    <tr>\n      <th>18</th>\n      <td>m1</td>\n      <td>amount.moles.units</td>\n      <td>CompoundLeafType.amount</td>\n      <td>None</td>\n      <td>3</td>\n    </tr>\n    <tr>\n      <th>19</th>\n      <td>m1</td>\n      <td>reactionRole</td>\n      <td>CompoundLeafType.reaction_role</td>\n      <td>None</td>\n      <td>3</td>\n    </tr>\n  </tbody>\n</table>\n</div>"
     },
     "execution_count": 3,
     "metadata": {},
     "output_type": "execute_result"
    }
   ],
   "source": [
    "df = get_compound_list_leaf_diff(diff)\n",
    "df"
   ],
   "metadata": {
    "collapsed": false,
    "ExecuteTime": {
     "end_time": "2023-10-11T20:52:55.269892198Z",
     "start_time": "2023-10-11T20:52:55.256330587Z"
    }
   },
   "id": "a8b0a833cfbc7e05"
  }
 ],
 "metadata": {
  "kernelspec": {
   "display_name": "Python 3",
   "language": "python",
   "name": "python3"
  },
  "language_info": {
   "codemirror_mode": {
    "name": "ipython",
    "version": 2
   },
   "file_extension": ".py",
   "mimetype": "text/x-python",
   "name": "python",
   "nbconvert_exporter": "python",
   "pygments_lexer": "ipython2",
   "version": "2.7.6"
  }
 },
 "nbformat": 4,
 "nbformat_minor": 5
}
