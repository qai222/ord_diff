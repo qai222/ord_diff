{
 "cells": [
  {
   "cell_type": "code",
   "execution_count": 1,
   "id": "initial_id",
   "metadata": {
    "collapsed": true,
    "ExecuteTime": {
     "end_time": "2023-10-16T12:55:58.242968308Z",
     "start_time": "2023-10-16T12:55:58.242407108Z"
    }
   },
   "outputs": [
    {
     "data": {
      "text/plain": "1954"
     },
     "execution_count": 1,
     "metadata": {},
     "output_type": "execute_result"
    }
   ],
   "source": [
    "# load data\n",
    "import json\n",
    "\n",
    "with open(\"./tests/pairs_20230731.json\", \"r\") as f:\n",
    "    data = json.load(f)\n",
    "len(data)"
   ]
  },
  {
   "cell_type": "code",
   "execution_count": 2,
   "outputs": [
    {
     "name": "stdout",
     "output_type": "stream",
     "text": [
      "excess compounds in list #2: 0\n",
      "absent compounds in list #1: 0\n",
      "altered compounds (based on list #1): 2\n"
     ]
    }
   ],
   "source": [
    "# inspect a pair of compound lists\n",
    "from google.protobuf import json_format\n",
    "from ord_schema.proto import reaction_pb2\n",
    "from ord_diff.schema import MDictDiff, MDictListDiff, MessageType\n",
    "\n",
    "# select the pair of reactions\n",
    "i = 22\n",
    "reaction_id, reaction_string_1, reaction_string_2 = data[i]\n",
    "\n",
    "# convert them from json to messages\n",
    "reaction_1 = json_format.Parse(reaction_string_1, reaction_pb2.Reaction())\n",
    "reaction_2 = json_format.Parse(reaction_string_2, reaction_pb2.Reaction())\n",
    "\n",
    "# find the list of compound messages\n",
    "compound_list_1 = []\n",
    "for ri in reaction_1.inputs.values():\n",
    "    compound_list_1.extend(ri.components)\n",
    "compound_list_2 = []\n",
    "for ri in reaction_2.inputs.values():\n",
    "    compound_list_2.extend(ri.components)\n",
    "diff = MDictListDiff.from_message_list_pair(\n",
    "    m1_list=compound_list_1,\n",
    "    m2_list=compound_list_2,\n",
    "    message_type=MessageType.COMPOUND,\n",
    ")\n",
    "print(\"excess compounds in list #2:\", diff.n_excess)\n",
    "print(\"absent compounds in list #1:\", diff.n_absent)\n",
    "print(\"altered compounds (based on list #1):\", diff.n_changed)"
   ],
   "metadata": {
    "collapsed": false,
    "ExecuteTime": {
     "end_time": "2023-10-16T12:55:58.404039469Z",
     "start_time": "2023-10-16T12:55:58.242586617Z"
    }
   },
   "id": "4e99c69ea50eab94"
  },
  {
   "cell_type": "code",
   "execution_count": 3,
   "outputs": [
    {
     "data": {
      "text/plain": "   from                 path           change_type  \\\n0    m1   identifiers.0.type                  None   \n1    m1  identifiers.0.value                  None   \n2    m1    amount.mass.value                  None   \n3    m1    amount.mass.units                  None   \n4    m1         reactionRole                  None   \n5    m1   identifiers.0.type                  None   \n6    m1  identifiers.0.value                  None   \n7    m1  amount.volume.value                  None   \n8    m1  amount.volume.units                  None   \n9    m1         reactionRole  DeltaType.ALTERATION   \n10   m1   identifiers.0.type                  None   \n11   m1  identifiers.0.value                  None   \n12   m1   amount.moles.value                  None   \n13   m1   amount.moles.units                  None   \n14   m1         reactionRole                  None   \n15   m1   identifiers.0.type                  None   \n16   m1  identifiers.0.value                  None   \n17   m1   amount.moles.value  DeltaType.ALTERATION   \n18   m1   amount.moles.units                  None   \n19   m1         reactionRole                  None   \n\n                         leaf_type  pair_index  \n0     CompoundLeafType.identifiers           0  \n1     CompoundLeafType.identifiers           0  \n2          CompoundLeafType.amount           0  \n3          CompoundLeafType.amount           0  \n4   CompoundLeafType.reaction_role           0  \n5     CompoundLeafType.identifiers           1  \n6     CompoundLeafType.identifiers           1  \n7          CompoundLeafType.amount           1  \n8          CompoundLeafType.amount           1  \n9   CompoundLeafType.reaction_role           1  \n10    CompoundLeafType.identifiers           2  \n11    CompoundLeafType.identifiers           2  \n12         CompoundLeafType.amount           2  \n13         CompoundLeafType.amount           2  \n14  CompoundLeafType.reaction_role           2  \n15    CompoundLeafType.identifiers           3  \n16    CompoundLeafType.identifiers           3  \n17         CompoundLeafType.amount           3  \n18         CompoundLeafType.amount           3  \n19  CompoundLeafType.reaction_role           3  ",
      "text/html": "<div>\n<style scoped>\n    .dataframe tbody tr th:only-of-type {\n        vertical-align: middle;\n    }\n\n    .dataframe tbody tr th {\n        vertical-align: top;\n    }\n\n    .dataframe thead th {\n        text-align: right;\n    }\n</style>\n<table border=\"1\" class=\"dataframe\">\n  <thead>\n    <tr style=\"text-align: right;\">\n      <th></th>\n      <th>from</th>\n      <th>path</th>\n      <th>change_type</th>\n      <th>leaf_type</th>\n      <th>pair_index</th>\n    </tr>\n  </thead>\n  <tbody>\n    <tr>\n      <th>0</th>\n      <td>m1</td>\n      <td>identifiers.0.type</td>\n      <td>None</td>\n      <td>CompoundLeafType.identifiers</td>\n      <td>0</td>\n    </tr>\n    <tr>\n      <th>1</th>\n      <td>m1</td>\n      <td>identifiers.0.value</td>\n      <td>None</td>\n      <td>CompoundLeafType.identifiers</td>\n      <td>0</td>\n    </tr>\n    <tr>\n      <th>2</th>\n      <td>m1</td>\n      <td>amount.mass.value</td>\n      <td>None</td>\n      <td>CompoundLeafType.amount</td>\n      <td>0</td>\n    </tr>\n    <tr>\n      <th>3</th>\n      <td>m1</td>\n      <td>amount.mass.units</td>\n      <td>None</td>\n      <td>CompoundLeafType.amount</td>\n      <td>0</td>\n    </tr>\n    <tr>\n      <th>4</th>\n      <td>m1</td>\n      <td>reactionRole</td>\n      <td>None</td>\n      <td>CompoundLeafType.reaction_role</td>\n      <td>0</td>\n    </tr>\n    <tr>\n      <th>5</th>\n      <td>m1</td>\n      <td>identifiers.0.type</td>\n      <td>None</td>\n      <td>CompoundLeafType.identifiers</td>\n      <td>1</td>\n    </tr>\n    <tr>\n      <th>6</th>\n      <td>m1</td>\n      <td>identifiers.0.value</td>\n      <td>None</td>\n      <td>CompoundLeafType.identifiers</td>\n      <td>1</td>\n    </tr>\n    <tr>\n      <th>7</th>\n      <td>m1</td>\n      <td>amount.volume.value</td>\n      <td>None</td>\n      <td>CompoundLeafType.amount</td>\n      <td>1</td>\n    </tr>\n    <tr>\n      <th>8</th>\n      <td>m1</td>\n      <td>amount.volume.units</td>\n      <td>None</td>\n      <td>CompoundLeafType.amount</td>\n      <td>1</td>\n    </tr>\n    <tr>\n      <th>9</th>\n      <td>m1</td>\n      <td>reactionRole</td>\n      <td>DeltaType.ALTERATION</td>\n      <td>CompoundLeafType.reaction_role</td>\n      <td>1</td>\n    </tr>\n    <tr>\n      <th>10</th>\n      <td>m1</td>\n      <td>identifiers.0.type</td>\n      <td>None</td>\n      <td>CompoundLeafType.identifiers</td>\n      <td>2</td>\n    </tr>\n    <tr>\n      <th>11</th>\n      <td>m1</td>\n      <td>identifiers.0.value</td>\n      <td>None</td>\n      <td>CompoundLeafType.identifiers</td>\n      <td>2</td>\n    </tr>\n    <tr>\n      <th>12</th>\n      <td>m1</td>\n      <td>amount.moles.value</td>\n      <td>None</td>\n      <td>CompoundLeafType.amount</td>\n      <td>2</td>\n    </tr>\n    <tr>\n      <th>13</th>\n      <td>m1</td>\n      <td>amount.moles.units</td>\n      <td>None</td>\n      <td>CompoundLeafType.amount</td>\n      <td>2</td>\n    </tr>\n    <tr>\n      <th>14</th>\n      <td>m1</td>\n      <td>reactionRole</td>\n      <td>None</td>\n      <td>CompoundLeafType.reaction_role</td>\n      <td>2</td>\n    </tr>\n    <tr>\n      <th>15</th>\n      <td>m1</td>\n      <td>identifiers.0.type</td>\n      <td>None</td>\n      <td>CompoundLeafType.identifiers</td>\n      <td>3</td>\n    </tr>\n    <tr>\n      <th>16</th>\n      <td>m1</td>\n      <td>identifiers.0.value</td>\n      <td>None</td>\n      <td>CompoundLeafType.identifiers</td>\n      <td>3</td>\n    </tr>\n    <tr>\n      <th>17</th>\n      <td>m1</td>\n      <td>amount.moles.value</td>\n      <td>DeltaType.ALTERATION</td>\n      <td>CompoundLeafType.amount</td>\n      <td>3</td>\n    </tr>\n    <tr>\n      <th>18</th>\n      <td>m1</td>\n      <td>amount.moles.units</td>\n      <td>None</td>\n      <td>CompoundLeafType.amount</td>\n      <td>3</td>\n    </tr>\n    <tr>\n      <th>19</th>\n      <td>m1</td>\n      <td>reactionRole</td>\n      <td>None</td>\n      <td>CompoundLeafType.reaction_role</td>\n      <td>3</td>\n    </tr>\n  </tbody>\n</table>\n</div>"
     },
     "execution_count": 3,
     "metadata": {},
     "output_type": "execute_result"
    }
   ],
   "source": [
    "from ord_diff.report import report_diff_list\n",
    "df = report_diff_list(diff, message_type=MessageType.COMPOUND)\n",
    "df"
   ],
   "metadata": {
    "collapsed": false,
    "ExecuteTime": {
     "end_time": "2023-10-16T12:55:58.492094092Z",
     "start_time": "2023-10-16T12:55:58.404227304Z"
    }
   },
   "id": "a8b0a833cfbc7e05"
  },
  {
   "cell_type": "code",
   "execution_count": 4,
   "outputs": [
    {
     "data": {
      "text/plain": "   from                                               path         change_type\n0    m1       inputs.m1_m4.components.0.identifiers.0.type   DeltaType.REMOVAL\n1    m1      inputs.m1_m4.components.0.identifiers.0.value   DeltaType.REMOVAL\n2    m1        inputs.m1_m4.components.0.amount.mass.value   DeltaType.REMOVAL\n3    m1        inputs.m1_m4.components.0.amount.mass.units   DeltaType.REMOVAL\n4    m1             inputs.m1_m4.components.0.reactionRole   DeltaType.REMOVAL\n5    m1       inputs.m1_m4.components.1.identifiers.0.type   DeltaType.REMOVAL\n6    m1      inputs.m1_m4.components.1.identifiers.0.value   DeltaType.REMOVAL\n7    m1      inputs.m1_m4.components.1.amount.volume.value   DeltaType.REMOVAL\n8    m1      inputs.m1_m4.components.1.amount.volume.units   DeltaType.REMOVAL\n9    m1             inputs.m1_m4.components.1.reactionRole   DeltaType.REMOVAL\n10   m1          inputs.m2.components.0.identifiers.0.type                None\n11   m1         inputs.m2.components.0.identifiers.0.value                None\n12   m1          inputs.m2.components.0.amount.moles.value                None\n13   m1          inputs.m2.components.0.amount.moles.units                None\n14   m1                inputs.m2.components.0.reactionRole                None\n15   m1          inputs.m3.components.0.identifiers.0.type   DeltaType.REMOVAL\n16   m1         inputs.m3.components.0.identifiers.0.value   DeltaType.REMOVAL\n17   m1          inputs.m3.components.0.amount.moles.value   DeltaType.REMOVAL\n18   m1          inputs.m3.components.0.amount.moles.units   DeltaType.REMOVAL\n19   m1                inputs.m3.components.0.reactionRole   DeltaType.REMOVAL\n20   m1                           conditions.stirring.type                None\n21   m1                        conditions.stirring.details                None\n22   m1                    conditions.conditionsAreDynamic                None\n23   m1                                     workups.0.type                None\n24   m1                                     workups.1.type                None\n25   m1                      outcomes.0.reactionTime.value                None\n26   m1                      outcomes.0.reactionTime.units                None\n27   m1           outcomes.0.products.0.identifiers.0.type                None\n28   m1          outcomes.0.products.0.identifiers.0.value                None\n29   m1          outcomes.0.products.0.measurements.0.type                None\n30   m1       outcomes.0.products.0.measurements.0.details                None\n31   m1  outcomes.0.products.0.measurements.0.amount.ma...                None\n32   m1  outcomes.0.products.0.measurements.0.amount.ma...                None\n33   m1          outcomes.0.products.0.measurements.1.type                None\n34   m1       outcomes.0.products.0.measurements.1.details                None\n35   m1  outcomes.0.products.0.measurements.1.percentag...                None\n36   m1                outcomes.0.products.0.isolatedColor                None\n37   m1                 outcomes.0.products.0.texture.type                None\n38   m1              outcomes.0.products.0.texture.details                None\n39   m1                 outcomes.0.products.0.reactionRole                None\n40   m2          inputs.m4.components.0.identifiers.0.type  DeltaType.ADDITION\n41   m2         inputs.m4.components.0.identifiers.0.value  DeltaType.ADDITION\n42   m2          inputs.m4.components.0.amount.moles.value  DeltaType.ADDITION\n43   m2          inputs.m4.components.0.amount.moles.units  DeltaType.ADDITION\n44   m2                inputs.m4.components.0.reactionRole  DeltaType.ADDITION\n45   m2       inputs.m1_m3.components.0.identifiers.0.type  DeltaType.ADDITION\n46   m2      inputs.m1_m3.components.0.identifiers.0.value  DeltaType.ADDITION\n47   m2        inputs.m1_m3.components.0.amount.mass.value  DeltaType.ADDITION\n48   m2        inputs.m1_m3.components.0.amount.mass.units  DeltaType.ADDITION\n49   m2             inputs.m1_m3.components.0.reactionRole  DeltaType.ADDITION\n50   m2       inputs.m1_m3.components.1.identifiers.0.type  DeltaType.ADDITION\n51   m2      inputs.m1_m3.components.1.identifiers.0.value  DeltaType.ADDITION\n52   m2      inputs.m1_m3.components.1.amount.volume.value  DeltaType.ADDITION\n53   m2      inputs.m1_m3.components.1.amount.volume.units  DeltaType.ADDITION\n54   m2             inputs.m1_m3.components.1.reactionRole  DeltaType.ADDITION\n55   m2          outcomes.0.products.0.measurements.2.type  DeltaType.ADDITION\n56   m2       outcomes.0.products.0.measurements.2.details  DeltaType.ADDITION\n57   m2  outcomes.0.products.0.measurements.2.percentag...  DeltaType.ADDITION",
      "text/html": "<div>\n<style scoped>\n    .dataframe tbody tr th:only-of-type {\n        vertical-align: middle;\n    }\n\n    .dataframe tbody tr th {\n        vertical-align: top;\n    }\n\n    .dataframe thead th {\n        text-align: right;\n    }\n</style>\n<table border=\"1\" class=\"dataframe\">\n  <thead>\n    <tr style=\"text-align: right;\">\n      <th></th>\n      <th>from</th>\n      <th>path</th>\n      <th>change_type</th>\n    </tr>\n  </thead>\n  <tbody>\n    <tr>\n      <th>0</th>\n      <td>m1</td>\n      <td>inputs.m1_m4.components.0.identifiers.0.type</td>\n      <td>DeltaType.REMOVAL</td>\n    </tr>\n    <tr>\n      <th>1</th>\n      <td>m1</td>\n      <td>inputs.m1_m4.components.0.identifiers.0.value</td>\n      <td>DeltaType.REMOVAL</td>\n    </tr>\n    <tr>\n      <th>2</th>\n      <td>m1</td>\n      <td>inputs.m1_m4.components.0.amount.mass.value</td>\n      <td>DeltaType.REMOVAL</td>\n    </tr>\n    <tr>\n      <th>3</th>\n      <td>m1</td>\n      <td>inputs.m1_m4.components.0.amount.mass.units</td>\n      <td>DeltaType.REMOVAL</td>\n    </tr>\n    <tr>\n      <th>4</th>\n      <td>m1</td>\n      <td>inputs.m1_m4.components.0.reactionRole</td>\n      <td>DeltaType.REMOVAL</td>\n    </tr>\n    <tr>\n      <th>5</th>\n      <td>m1</td>\n      <td>inputs.m1_m4.components.1.identifiers.0.type</td>\n      <td>DeltaType.REMOVAL</td>\n    </tr>\n    <tr>\n      <th>6</th>\n      <td>m1</td>\n      <td>inputs.m1_m4.components.1.identifiers.0.value</td>\n      <td>DeltaType.REMOVAL</td>\n    </tr>\n    <tr>\n      <th>7</th>\n      <td>m1</td>\n      <td>inputs.m1_m4.components.1.amount.volume.value</td>\n      <td>DeltaType.REMOVAL</td>\n    </tr>\n    <tr>\n      <th>8</th>\n      <td>m1</td>\n      <td>inputs.m1_m4.components.1.amount.volume.units</td>\n      <td>DeltaType.REMOVAL</td>\n    </tr>\n    <tr>\n      <th>9</th>\n      <td>m1</td>\n      <td>inputs.m1_m4.components.1.reactionRole</td>\n      <td>DeltaType.REMOVAL</td>\n    </tr>\n    <tr>\n      <th>10</th>\n      <td>m1</td>\n      <td>inputs.m2.components.0.identifiers.0.type</td>\n      <td>None</td>\n    </tr>\n    <tr>\n      <th>11</th>\n      <td>m1</td>\n      <td>inputs.m2.components.0.identifiers.0.value</td>\n      <td>None</td>\n    </tr>\n    <tr>\n      <th>12</th>\n      <td>m1</td>\n      <td>inputs.m2.components.0.amount.moles.value</td>\n      <td>None</td>\n    </tr>\n    <tr>\n      <th>13</th>\n      <td>m1</td>\n      <td>inputs.m2.components.0.amount.moles.units</td>\n      <td>None</td>\n    </tr>\n    <tr>\n      <th>14</th>\n      <td>m1</td>\n      <td>inputs.m2.components.0.reactionRole</td>\n      <td>None</td>\n    </tr>\n    <tr>\n      <th>15</th>\n      <td>m1</td>\n      <td>inputs.m3.components.0.identifiers.0.type</td>\n      <td>DeltaType.REMOVAL</td>\n    </tr>\n    <tr>\n      <th>16</th>\n      <td>m1</td>\n      <td>inputs.m3.components.0.identifiers.0.value</td>\n      <td>DeltaType.REMOVAL</td>\n    </tr>\n    <tr>\n      <th>17</th>\n      <td>m1</td>\n      <td>inputs.m3.components.0.amount.moles.value</td>\n      <td>DeltaType.REMOVAL</td>\n    </tr>\n    <tr>\n      <th>18</th>\n      <td>m1</td>\n      <td>inputs.m3.components.0.amount.moles.units</td>\n      <td>DeltaType.REMOVAL</td>\n    </tr>\n    <tr>\n      <th>19</th>\n      <td>m1</td>\n      <td>inputs.m3.components.0.reactionRole</td>\n      <td>DeltaType.REMOVAL</td>\n    </tr>\n    <tr>\n      <th>20</th>\n      <td>m1</td>\n      <td>conditions.stirring.type</td>\n      <td>None</td>\n    </tr>\n    <tr>\n      <th>21</th>\n      <td>m1</td>\n      <td>conditions.stirring.details</td>\n      <td>None</td>\n    </tr>\n    <tr>\n      <th>22</th>\n      <td>m1</td>\n      <td>conditions.conditionsAreDynamic</td>\n      <td>None</td>\n    </tr>\n    <tr>\n      <th>23</th>\n      <td>m1</td>\n      <td>workups.0.type</td>\n      <td>None</td>\n    </tr>\n    <tr>\n      <th>24</th>\n      <td>m1</td>\n      <td>workups.1.type</td>\n      <td>None</td>\n    </tr>\n    <tr>\n      <th>25</th>\n      <td>m1</td>\n      <td>outcomes.0.reactionTime.value</td>\n      <td>None</td>\n    </tr>\n    <tr>\n      <th>26</th>\n      <td>m1</td>\n      <td>outcomes.0.reactionTime.units</td>\n      <td>None</td>\n    </tr>\n    <tr>\n      <th>27</th>\n      <td>m1</td>\n      <td>outcomes.0.products.0.identifiers.0.type</td>\n      <td>None</td>\n    </tr>\n    <tr>\n      <th>28</th>\n      <td>m1</td>\n      <td>outcomes.0.products.0.identifiers.0.value</td>\n      <td>None</td>\n    </tr>\n    <tr>\n      <th>29</th>\n      <td>m1</td>\n      <td>outcomes.0.products.0.measurements.0.type</td>\n      <td>None</td>\n    </tr>\n    <tr>\n      <th>30</th>\n      <td>m1</td>\n      <td>outcomes.0.products.0.measurements.0.details</td>\n      <td>None</td>\n    </tr>\n    <tr>\n      <th>31</th>\n      <td>m1</td>\n      <td>outcomes.0.products.0.measurements.0.amount.ma...</td>\n      <td>None</td>\n    </tr>\n    <tr>\n      <th>32</th>\n      <td>m1</td>\n      <td>outcomes.0.products.0.measurements.0.amount.ma...</td>\n      <td>None</td>\n    </tr>\n    <tr>\n      <th>33</th>\n      <td>m1</td>\n      <td>outcomes.0.products.0.measurements.1.type</td>\n      <td>None</td>\n    </tr>\n    <tr>\n      <th>34</th>\n      <td>m1</td>\n      <td>outcomes.0.products.0.measurements.1.details</td>\n      <td>None</td>\n    </tr>\n    <tr>\n      <th>35</th>\n      <td>m1</td>\n      <td>outcomes.0.products.0.measurements.1.percentag...</td>\n      <td>None</td>\n    </tr>\n    <tr>\n      <th>36</th>\n      <td>m1</td>\n      <td>outcomes.0.products.0.isolatedColor</td>\n      <td>None</td>\n    </tr>\n    <tr>\n      <th>37</th>\n      <td>m1</td>\n      <td>outcomes.0.products.0.texture.type</td>\n      <td>None</td>\n    </tr>\n    <tr>\n      <th>38</th>\n      <td>m1</td>\n      <td>outcomes.0.products.0.texture.details</td>\n      <td>None</td>\n    </tr>\n    <tr>\n      <th>39</th>\n      <td>m1</td>\n      <td>outcomes.0.products.0.reactionRole</td>\n      <td>None</td>\n    </tr>\n    <tr>\n      <th>40</th>\n      <td>m2</td>\n      <td>inputs.m4.components.0.identifiers.0.type</td>\n      <td>DeltaType.ADDITION</td>\n    </tr>\n    <tr>\n      <th>41</th>\n      <td>m2</td>\n      <td>inputs.m4.components.0.identifiers.0.value</td>\n      <td>DeltaType.ADDITION</td>\n    </tr>\n    <tr>\n      <th>42</th>\n      <td>m2</td>\n      <td>inputs.m4.components.0.amount.moles.value</td>\n      <td>DeltaType.ADDITION</td>\n    </tr>\n    <tr>\n      <th>43</th>\n      <td>m2</td>\n      <td>inputs.m4.components.0.amount.moles.units</td>\n      <td>DeltaType.ADDITION</td>\n    </tr>\n    <tr>\n      <th>44</th>\n      <td>m2</td>\n      <td>inputs.m4.components.0.reactionRole</td>\n      <td>DeltaType.ADDITION</td>\n    </tr>\n    <tr>\n      <th>45</th>\n      <td>m2</td>\n      <td>inputs.m1_m3.components.0.identifiers.0.type</td>\n      <td>DeltaType.ADDITION</td>\n    </tr>\n    <tr>\n      <th>46</th>\n      <td>m2</td>\n      <td>inputs.m1_m3.components.0.identifiers.0.value</td>\n      <td>DeltaType.ADDITION</td>\n    </tr>\n    <tr>\n      <th>47</th>\n      <td>m2</td>\n      <td>inputs.m1_m3.components.0.amount.mass.value</td>\n      <td>DeltaType.ADDITION</td>\n    </tr>\n    <tr>\n      <th>48</th>\n      <td>m2</td>\n      <td>inputs.m1_m3.components.0.amount.mass.units</td>\n      <td>DeltaType.ADDITION</td>\n    </tr>\n    <tr>\n      <th>49</th>\n      <td>m2</td>\n      <td>inputs.m1_m3.components.0.reactionRole</td>\n      <td>DeltaType.ADDITION</td>\n    </tr>\n    <tr>\n      <th>50</th>\n      <td>m2</td>\n      <td>inputs.m1_m3.components.1.identifiers.0.type</td>\n      <td>DeltaType.ADDITION</td>\n    </tr>\n    <tr>\n      <th>51</th>\n      <td>m2</td>\n      <td>inputs.m1_m3.components.1.identifiers.0.value</td>\n      <td>DeltaType.ADDITION</td>\n    </tr>\n    <tr>\n      <th>52</th>\n      <td>m2</td>\n      <td>inputs.m1_m3.components.1.amount.volume.value</td>\n      <td>DeltaType.ADDITION</td>\n    </tr>\n    <tr>\n      <th>53</th>\n      <td>m2</td>\n      <td>inputs.m1_m3.components.1.amount.volume.units</td>\n      <td>DeltaType.ADDITION</td>\n    </tr>\n    <tr>\n      <th>54</th>\n      <td>m2</td>\n      <td>inputs.m1_m3.components.1.reactionRole</td>\n      <td>DeltaType.ADDITION</td>\n    </tr>\n    <tr>\n      <th>55</th>\n      <td>m2</td>\n      <td>outcomes.0.products.0.measurements.2.type</td>\n      <td>DeltaType.ADDITION</td>\n    </tr>\n    <tr>\n      <th>56</th>\n      <td>m2</td>\n      <td>outcomes.0.products.0.measurements.2.details</td>\n      <td>DeltaType.ADDITION</td>\n    </tr>\n    <tr>\n      <th>57</th>\n      <td>m2</td>\n      <td>outcomes.0.products.0.measurements.2.percentag...</td>\n      <td>DeltaType.ADDITION</td>\n    </tr>\n  </tbody>\n</table>\n</div>"
     },
     "execution_count": 4,
     "metadata": {},
     "output_type": "execute_result"
    }
   ],
   "source": [
    "# we can also directly compare two reactions\n",
    "# this may not be very useful: in `Reaction.inputs` the keys are arbitrary assigned\n",
    "from ord_diff.report import report_diff\n",
    "diff = MDictDiff.from_message_pair(reaction_1, reaction_2, message_type=MessageType.REACTION)\n",
    "df = report_diff(diff, message_type=MessageType.REACTION)\n",
    "df"
   ],
   "metadata": {
    "collapsed": false,
    "ExecuteTime": {
     "end_time": "2023-10-16T12:55:58.508674677Z",
     "start_time": "2023-10-16T12:55:58.504681096Z"
    }
   },
   "id": "80ed3a031ed97306"
  },
  {
   "cell_type": "code",
   "execution_count": 5,
   "outputs": [
    {
     "name": "stdout",
     "output_type": "stream",
     "text": [
      "[type: CUSTOM\n",
      ", type: FILTRATION\n",
      "]\n",
      "[type: CUSTOM\n",
      ", type: FILTRATION\n",
      "]\n"
     ]
    },
    {
     "data": {
      "text/plain": "  from  path change_type  pair_index\n0   m1  type        None           0\n1   m1  type        None           1",
      "text/html": "<div>\n<style scoped>\n    .dataframe tbody tr th:only-of-type {\n        vertical-align: middle;\n    }\n\n    .dataframe tbody tr th {\n        vertical-align: top;\n    }\n\n    .dataframe thead th {\n        text-align: right;\n    }\n</style>\n<table border=\"1\" class=\"dataframe\">\n  <thead>\n    <tr style=\"text-align: right;\">\n      <th></th>\n      <th>from</th>\n      <th>path</th>\n      <th>change_type</th>\n      <th>pair_index</th>\n    </tr>\n  </thead>\n  <tbody>\n    <tr>\n      <th>0</th>\n      <td>m1</td>\n      <td>type</td>\n      <td>None</td>\n      <td>0</td>\n    </tr>\n    <tr>\n      <th>1</th>\n      <td>m1</td>\n      <td>type</td>\n      <td>None</td>\n      <td>1</td>\n    </tr>\n  </tbody>\n</table>\n</div>"
     },
     "execution_count": 5,
     "metadata": {},
     "output_type": "execute_result"
    }
   ],
   "source": [
    "# compare two workup lists\n",
    "diff = MDictListDiff.from_message_list_pair(reaction_1.workups, reaction_2.workups, message_type=MessageType.REACTION_WORKUP)\n",
    "\n",
    "df = report_diff_list(diff, message_type=MessageType.REACTION_WORKUP)\n",
    "print(reaction_1.workups)\n",
    "print(reaction_2.workups)\n",
    "df\n"
   ],
   "metadata": {
    "collapsed": false,
    "ExecuteTime": {
     "end_time": "2023-10-16T12:55:58.531525715Z",
     "start_time": "2023-10-16T12:55:58.507662831Z"
    }
   },
   "id": "6b84b6c23f75c53b"
  }
 ],
 "metadata": {
  "kernelspec": {
   "display_name": "Python 3",
   "language": "python",
   "name": "python3"
  },
  "language_info": {
   "codemirror_mode": {
    "name": "ipython",
    "version": 2
   },
   "file_extension": ".py",
   "mimetype": "text/x-python",
   "name": "python",
   "nbconvert_exporter": "python",
   "pygments_lexer": "ipython2",
   "version": "2.7.6"
  }
 },
 "nbformat": 4,
 "nbformat_minor": 5
}
