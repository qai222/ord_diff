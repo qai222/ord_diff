{
 "cells": [
  {
   "cell_type": "code",
   "execution_count": 1,
   "id": "initial_id",
   "metadata": {
    "collapsed": true,
    "ExecuteTime": {
     "end_time": "2023-10-16T13:01:30.238682673Z",
     "start_time": "2023-10-16T13:01:30.238058699Z"
    }
   },
   "outputs": [
    {
     "data": {
      "text/plain": "1954"
     },
     "execution_count": 1,
     "metadata": {},
     "output_type": "execute_result"
    }
   ],
   "source": [
    "# load data\n",
    "import json\n",
    "\n",
    "with open(\"./tests/pairs_20230731.json\", \"r\") as f:\n",
    "    data = json.load(f)\n",
    "len(data)"
   ]
  },
  {
   "cell_type": "code",
   "execution_count": 2,
   "outputs": [
    {
     "name": "stdout",
     "output_type": "stream",
     "text": [
      "excess compounds in list #2: 0\n",
      "absent compounds in list #1: 0\n",
      "altered compounds (based on list #1): 2\n"
     ]
    }
   ],
   "source": [
    "# inspect a pair of compound lists\n",
    "from google.protobuf import json_format\n",
    "from ord_schema.proto import reaction_pb2\n",
    "from ord_diff.schema import MDictDiff, MDictListDiff, MessageType\n",
    "\n",
    "# select the pair of reactions\n",
    "i = 22\n",
    "reaction_id, reaction_string_1, reaction_string_2 = data[i]\n",
    "\n",
    "# convert them from json to messages\n",
    "reaction_1 = json_format.Parse(reaction_string_1, reaction_pb2.Reaction())\n",
    "reaction_2 = json_format.Parse(reaction_string_2, reaction_pb2.Reaction())\n",
    "\n",
    "# find the list of compound messages\n",
    "compound_list_1 = []\n",
    "for ri in reaction_1.inputs.values():\n",
    "    compound_list_1.extend(ri.components)\n",
    "compound_list_2 = []\n",
    "for ri in reaction_2.inputs.values():\n",
    "    compound_list_2.extend(ri.components)\n",
    "diff = MDictListDiff.from_message_list_pair(\n",
    "    m1_list=compound_list_1,\n",
    "    m2_list=compound_list_2,\n",
    "    message_type=MessageType.COMPOUND,\n",
    ")\n",
    "print(\"excess compounds in list #2:\", diff.n_excess)\n",
    "print(\"absent compounds in list #1:\", diff.n_absent)\n",
    "print(\"altered compounds (based on list #1):\", diff.n_changed)"
   ],
   "metadata": {
    "collapsed": false,
    "ExecuteTime": {
     "end_time": "2023-10-16T13:01:30.398315112Z",
     "start_time": "2023-10-16T13:01:30.238296157Z"
    }
   },
   "id": "4e99c69ea50eab94"
  },
  {
   "cell_type": "code",
   "execution_count": 3,
   "outputs": [
    {
     "data": {
      "text/plain": "   from                 path           change_type is_explicit  \\\n0    m1   identifiers.0.type                  None        None   \n1    m1  identifiers.0.value                  None        None   \n2    m1    amount.mass.value                  None        None   \n3    m1    amount.mass.units                  None        None   \n4    m1         reactionRole                  None        None   \n5    m1   identifiers.0.type                  None        None   \n6    m1  identifiers.0.value                  None        None   \n7    m1  amount.volume.value                  None        None   \n8    m1  amount.volume.units                  None        None   \n9    m1         reactionRole  DeltaType.ALTERATION        None   \n10   m1   identifiers.0.type                  None        None   \n11   m1  identifiers.0.value                  None        None   \n12   m1   amount.moles.value                  None        None   \n13   m1   amount.moles.units                  None        None   \n14   m1         reactionRole                  None        None   \n15   m1   identifiers.0.type                  None        None   \n16   m1  identifiers.0.value                  None        None   \n17   m1   amount.moles.value  DeltaType.ALTERATION        None   \n18   m1   amount.moles.units                  None        None   \n19   m1         reactionRole                  None        None   \n\n                         leaf_type  pair_index  \n0     CompoundLeafType.identifiers           0  \n1     CompoundLeafType.identifiers           0  \n2          CompoundLeafType.amount           0  \n3          CompoundLeafType.amount           0  \n4   CompoundLeafType.reaction_role           0  \n5     CompoundLeafType.identifiers           1  \n6     CompoundLeafType.identifiers           1  \n7          CompoundLeafType.amount           1  \n8          CompoundLeafType.amount           1  \n9   CompoundLeafType.reaction_role           1  \n10    CompoundLeafType.identifiers           2  \n11    CompoundLeafType.identifiers           2  \n12         CompoundLeafType.amount           2  \n13         CompoundLeafType.amount           2  \n14  CompoundLeafType.reaction_role           2  \n15    CompoundLeafType.identifiers           3  \n16    CompoundLeafType.identifiers           3  \n17         CompoundLeafType.amount           3  \n18         CompoundLeafType.amount           3  \n19  CompoundLeafType.reaction_role           3  ",
      "text/html": "<div>\n<style scoped>\n    .dataframe tbody tr th:only-of-type {\n        vertical-align: middle;\n    }\n\n    .dataframe tbody tr th {\n        vertical-align: top;\n    }\n\n    .dataframe thead th {\n        text-align: right;\n    }\n</style>\n<table border=\"1\" class=\"dataframe\">\n  <thead>\n    <tr style=\"text-align: right;\">\n      <th></th>\n      <th>from</th>\n      <th>path</th>\n      <th>change_type</th>\n      <th>is_explicit</th>\n      <th>leaf_type</th>\n      <th>pair_index</th>\n    </tr>\n  </thead>\n  <tbody>\n    <tr>\n      <th>0</th>\n      <td>m1</td>\n      <td>identifiers.0.type</td>\n      <td>None</td>\n      <td>None</td>\n      <td>CompoundLeafType.identifiers</td>\n      <td>0</td>\n    </tr>\n    <tr>\n      <th>1</th>\n      <td>m1</td>\n      <td>identifiers.0.value</td>\n      <td>None</td>\n      <td>None</td>\n      <td>CompoundLeafType.identifiers</td>\n      <td>0</td>\n    </tr>\n    <tr>\n      <th>2</th>\n      <td>m1</td>\n      <td>amount.mass.value</td>\n      <td>None</td>\n      <td>None</td>\n      <td>CompoundLeafType.amount</td>\n      <td>0</td>\n    </tr>\n    <tr>\n      <th>3</th>\n      <td>m1</td>\n      <td>amount.mass.units</td>\n      <td>None</td>\n      <td>None</td>\n      <td>CompoundLeafType.amount</td>\n      <td>0</td>\n    </tr>\n    <tr>\n      <th>4</th>\n      <td>m1</td>\n      <td>reactionRole</td>\n      <td>None</td>\n      <td>None</td>\n      <td>CompoundLeafType.reaction_role</td>\n      <td>0</td>\n    </tr>\n    <tr>\n      <th>5</th>\n      <td>m1</td>\n      <td>identifiers.0.type</td>\n      <td>None</td>\n      <td>None</td>\n      <td>CompoundLeafType.identifiers</td>\n      <td>1</td>\n    </tr>\n    <tr>\n      <th>6</th>\n      <td>m1</td>\n      <td>identifiers.0.value</td>\n      <td>None</td>\n      <td>None</td>\n      <td>CompoundLeafType.identifiers</td>\n      <td>1</td>\n    </tr>\n    <tr>\n      <th>7</th>\n      <td>m1</td>\n      <td>amount.volume.value</td>\n      <td>None</td>\n      <td>None</td>\n      <td>CompoundLeafType.amount</td>\n      <td>1</td>\n    </tr>\n    <tr>\n      <th>8</th>\n      <td>m1</td>\n      <td>amount.volume.units</td>\n      <td>None</td>\n      <td>None</td>\n      <td>CompoundLeafType.amount</td>\n      <td>1</td>\n    </tr>\n    <tr>\n      <th>9</th>\n      <td>m1</td>\n      <td>reactionRole</td>\n      <td>DeltaType.ALTERATION</td>\n      <td>None</td>\n      <td>CompoundLeafType.reaction_role</td>\n      <td>1</td>\n    </tr>\n    <tr>\n      <th>10</th>\n      <td>m1</td>\n      <td>identifiers.0.type</td>\n      <td>None</td>\n      <td>None</td>\n      <td>CompoundLeafType.identifiers</td>\n      <td>2</td>\n    </tr>\n    <tr>\n      <th>11</th>\n      <td>m1</td>\n      <td>identifiers.0.value</td>\n      <td>None</td>\n      <td>None</td>\n      <td>CompoundLeafType.identifiers</td>\n      <td>2</td>\n    </tr>\n    <tr>\n      <th>12</th>\n      <td>m1</td>\n      <td>amount.moles.value</td>\n      <td>None</td>\n      <td>None</td>\n      <td>CompoundLeafType.amount</td>\n      <td>2</td>\n    </tr>\n    <tr>\n      <th>13</th>\n      <td>m1</td>\n      <td>amount.moles.units</td>\n      <td>None</td>\n      <td>None</td>\n      <td>CompoundLeafType.amount</td>\n      <td>2</td>\n    </tr>\n    <tr>\n      <th>14</th>\n      <td>m1</td>\n      <td>reactionRole</td>\n      <td>None</td>\n      <td>None</td>\n      <td>CompoundLeafType.reaction_role</td>\n      <td>2</td>\n    </tr>\n    <tr>\n      <th>15</th>\n      <td>m1</td>\n      <td>identifiers.0.type</td>\n      <td>None</td>\n      <td>None</td>\n      <td>CompoundLeafType.identifiers</td>\n      <td>3</td>\n    </tr>\n    <tr>\n      <th>16</th>\n      <td>m1</td>\n      <td>identifiers.0.value</td>\n      <td>None</td>\n      <td>None</td>\n      <td>CompoundLeafType.identifiers</td>\n      <td>3</td>\n    </tr>\n    <tr>\n      <th>17</th>\n      <td>m1</td>\n      <td>amount.moles.value</td>\n      <td>DeltaType.ALTERATION</td>\n      <td>None</td>\n      <td>CompoundLeafType.amount</td>\n      <td>3</td>\n    </tr>\n    <tr>\n      <th>18</th>\n      <td>m1</td>\n      <td>amount.moles.units</td>\n      <td>None</td>\n      <td>None</td>\n      <td>CompoundLeafType.amount</td>\n      <td>3</td>\n    </tr>\n    <tr>\n      <th>19</th>\n      <td>m1</td>\n      <td>reactionRole</td>\n      <td>None</td>\n      <td>None</td>\n      <td>CompoundLeafType.reaction_role</td>\n      <td>3</td>\n    </tr>\n  </tbody>\n</table>\n</div>"
     },
     "execution_count": 3,
     "metadata": {},
     "output_type": "execute_result"
    }
   ],
   "source": [
    "from ord_diff.report import report_diff_list\n",
    "df = report_diff_list(diff, message_type=MessageType.COMPOUND)\n",
    "df"
   ],
   "metadata": {
    "collapsed": false,
    "ExecuteTime": {
     "end_time": "2023-10-16T13:01:30.490097676Z",
     "start_time": "2023-10-16T13:01:30.400076196Z"
    }
   },
   "id": "a8b0a833cfbc7e05"
  },
  {
   "cell_type": "code",
   "execution_count": 4,
   "outputs": [
    {
     "data": {
      "text/plain": "   from                                               path  \\\n0    m1       inputs.m1_m4.components.0.identifiers.0.type   \n1    m1      inputs.m1_m4.components.0.identifiers.0.value   \n2    m1        inputs.m1_m4.components.0.amount.mass.value   \n3    m1        inputs.m1_m4.components.0.amount.mass.units   \n4    m1             inputs.m1_m4.components.0.reactionRole   \n5    m1       inputs.m1_m4.components.1.identifiers.0.type   \n6    m1      inputs.m1_m4.components.1.identifiers.0.value   \n7    m1      inputs.m1_m4.components.1.amount.volume.value   \n8    m1      inputs.m1_m4.components.1.amount.volume.units   \n9    m1             inputs.m1_m4.components.1.reactionRole   \n10   m1          inputs.m2.components.0.identifiers.0.type   \n11   m1         inputs.m2.components.0.identifiers.0.value   \n12   m1          inputs.m2.components.0.amount.moles.value   \n13   m1          inputs.m2.components.0.amount.moles.units   \n14   m1                inputs.m2.components.0.reactionRole   \n15   m1          inputs.m3.components.0.identifiers.0.type   \n16   m1         inputs.m3.components.0.identifiers.0.value   \n17   m1          inputs.m3.components.0.amount.moles.value   \n18   m1          inputs.m3.components.0.amount.moles.units   \n19   m1                inputs.m3.components.0.reactionRole   \n20   m1                           conditions.stirring.type   \n21   m1                        conditions.stirring.details   \n22   m1                    conditions.conditionsAreDynamic   \n23   m1                                     workups.0.type   \n24   m1                                     workups.1.type   \n25   m1                      outcomes.0.reactionTime.value   \n26   m1                      outcomes.0.reactionTime.units   \n27   m1           outcomes.0.products.0.identifiers.0.type   \n28   m1          outcomes.0.products.0.identifiers.0.value   \n29   m1          outcomes.0.products.0.measurements.0.type   \n30   m1       outcomes.0.products.0.measurements.0.details   \n31   m1  outcomes.0.products.0.measurements.0.amount.ma...   \n32   m1  outcomes.0.products.0.measurements.0.amount.ma...   \n33   m1          outcomes.0.products.0.measurements.1.type   \n34   m1       outcomes.0.products.0.measurements.1.details   \n35   m1  outcomes.0.products.0.measurements.1.percentag...   \n36   m1                outcomes.0.products.0.isolatedColor   \n37   m1                 outcomes.0.products.0.texture.type   \n38   m1              outcomes.0.products.0.texture.details   \n39   m1                 outcomes.0.products.0.reactionRole   \n40   m2          inputs.m4.components.0.identifiers.0.type   \n41   m2         inputs.m4.components.0.identifiers.0.value   \n42   m2          inputs.m4.components.0.amount.moles.value   \n43   m2          inputs.m4.components.0.amount.moles.units   \n44   m2                inputs.m4.components.0.reactionRole   \n45   m2       inputs.m1_m3.components.0.identifiers.0.type   \n46   m2      inputs.m1_m3.components.0.identifiers.0.value   \n47   m2        inputs.m1_m3.components.0.amount.mass.value   \n48   m2        inputs.m1_m3.components.0.amount.mass.units   \n49   m2             inputs.m1_m3.components.0.reactionRole   \n50   m2       inputs.m1_m3.components.1.identifiers.0.type   \n51   m2      inputs.m1_m3.components.1.identifiers.0.value   \n52   m2      inputs.m1_m3.components.1.amount.volume.value   \n53   m2      inputs.m1_m3.components.1.amount.volume.units   \n54   m2             inputs.m1_m3.components.1.reactionRole   \n55   m2          outcomes.0.products.0.measurements.2.type   \n56   m2       outcomes.0.products.0.measurements.2.details   \n57   m2  outcomes.0.products.0.measurements.2.percentag...   \n\n           change_type is_explicit  \n0    DeltaType.REMOVAL        None  \n1    DeltaType.REMOVAL        None  \n2    DeltaType.REMOVAL        None  \n3    DeltaType.REMOVAL        None  \n4    DeltaType.REMOVAL        None  \n5    DeltaType.REMOVAL        None  \n6    DeltaType.REMOVAL        None  \n7    DeltaType.REMOVAL        None  \n8    DeltaType.REMOVAL        None  \n9    DeltaType.REMOVAL        None  \n10                None        None  \n11                None        None  \n12                None        None  \n13                None        None  \n14                None        None  \n15   DeltaType.REMOVAL        None  \n16   DeltaType.REMOVAL        None  \n17   DeltaType.REMOVAL        None  \n18   DeltaType.REMOVAL        None  \n19   DeltaType.REMOVAL        None  \n20                None        None  \n21                None        None  \n22                None        None  \n23                None        None  \n24                None        None  \n25                None        None  \n26                None        None  \n27                None        None  \n28                None        None  \n29                None        None  \n30                None        None  \n31                None        None  \n32                None        None  \n33                None        None  \n34                None        None  \n35                None        None  \n36                None        None  \n37                None        None  \n38                None        None  \n39                None        None  \n40  DeltaType.ADDITION        None  \n41  DeltaType.ADDITION        None  \n42  DeltaType.ADDITION        None  \n43  DeltaType.ADDITION        None  \n44  DeltaType.ADDITION        None  \n45  DeltaType.ADDITION        None  \n46  DeltaType.ADDITION        None  \n47  DeltaType.ADDITION        None  \n48  DeltaType.ADDITION        None  \n49  DeltaType.ADDITION        None  \n50  DeltaType.ADDITION        None  \n51  DeltaType.ADDITION        None  \n52  DeltaType.ADDITION        None  \n53  DeltaType.ADDITION        None  \n54  DeltaType.ADDITION        None  \n55  DeltaType.ADDITION        None  \n56  DeltaType.ADDITION        None  \n57  DeltaType.ADDITION        None  ",
      "text/html": "<div>\n<style scoped>\n    .dataframe tbody tr th:only-of-type {\n        vertical-align: middle;\n    }\n\n    .dataframe tbody tr th {\n        vertical-align: top;\n    }\n\n    .dataframe thead th {\n        text-align: right;\n    }\n</style>\n<table border=\"1\" class=\"dataframe\">\n  <thead>\n    <tr style=\"text-align: right;\">\n      <th></th>\n      <th>from</th>\n      <th>path</th>\n      <th>change_type</th>\n      <th>is_explicit</th>\n    </tr>\n  </thead>\n  <tbody>\n    <tr>\n      <th>0</th>\n      <td>m1</td>\n      <td>inputs.m1_m4.components.0.identifiers.0.type</td>\n      <td>DeltaType.REMOVAL</td>\n      <td>None</td>\n    </tr>\n    <tr>\n      <th>1</th>\n      <td>m1</td>\n      <td>inputs.m1_m4.components.0.identifiers.0.value</td>\n      <td>DeltaType.REMOVAL</td>\n      <td>None</td>\n    </tr>\n    <tr>\n      <th>2</th>\n      <td>m1</td>\n      <td>inputs.m1_m4.components.0.amount.mass.value</td>\n      <td>DeltaType.REMOVAL</td>\n      <td>None</td>\n    </tr>\n    <tr>\n      <th>3</th>\n      <td>m1</td>\n      <td>inputs.m1_m4.components.0.amount.mass.units</td>\n      <td>DeltaType.REMOVAL</td>\n      <td>None</td>\n    </tr>\n    <tr>\n      <th>4</th>\n      <td>m1</td>\n      <td>inputs.m1_m4.components.0.reactionRole</td>\n      <td>DeltaType.REMOVAL</td>\n      <td>None</td>\n    </tr>\n    <tr>\n      <th>5</th>\n      <td>m1</td>\n      <td>inputs.m1_m4.components.1.identifiers.0.type</td>\n      <td>DeltaType.REMOVAL</td>\n      <td>None</td>\n    </tr>\n    <tr>\n      <th>6</th>\n      <td>m1</td>\n      <td>inputs.m1_m4.components.1.identifiers.0.value</td>\n      <td>DeltaType.REMOVAL</td>\n      <td>None</td>\n    </tr>\n    <tr>\n      <th>7</th>\n      <td>m1</td>\n      <td>inputs.m1_m4.components.1.amount.volume.value</td>\n      <td>DeltaType.REMOVAL</td>\n      <td>None</td>\n    </tr>\n    <tr>\n      <th>8</th>\n      <td>m1</td>\n      <td>inputs.m1_m4.components.1.amount.volume.units</td>\n      <td>DeltaType.REMOVAL</td>\n      <td>None</td>\n    </tr>\n    <tr>\n      <th>9</th>\n      <td>m1</td>\n      <td>inputs.m1_m4.components.1.reactionRole</td>\n      <td>DeltaType.REMOVAL</td>\n      <td>None</td>\n    </tr>\n    <tr>\n      <th>10</th>\n      <td>m1</td>\n      <td>inputs.m2.components.0.identifiers.0.type</td>\n      <td>None</td>\n      <td>None</td>\n    </tr>\n    <tr>\n      <th>11</th>\n      <td>m1</td>\n      <td>inputs.m2.components.0.identifiers.0.value</td>\n      <td>None</td>\n      <td>None</td>\n    </tr>\n    <tr>\n      <th>12</th>\n      <td>m1</td>\n      <td>inputs.m2.components.0.amount.moles.value</td>\n      <td>None</td>\n      <td>None</td>\n    </tr>\n    <tr>\n      <th>13</th>\n      <td>m1</td>\n      <td>inputs.m2.components.0.amount.moles.units</td>\n      <td>None</td>\n      <td>None</td>\n    </tr>\n    <tr>\n      <th>14</th>\n      <td>m1</td>\n      <td>inputs.m2.components.0.reactionRole</td>\n      <td>None</td>\n      <td>None</td>\n    </tr>\n    <tr>\n      <th>15</th>\n      <td>m1</td>\n      <td>inputs.m3.components.0.identifiers.0.type</td>\n      <td>DeltaType.REMOVAL</td>\n      <td>None</td>\n    </tr>\n    <tr>\n      <th>16</th>\n      <td>m1</td>\n      <td>inputs.m3.components.0.identifiers.0.value</td>\n      <td>DeltaType.REMOVAL</td>\n      <td>None</td>\n    </tr>\n    <tr>\n      <th>17</th>\n      <td>m1</td>\n      <td>inputs.m3.components.0.amount.moles.value</td>\n      <td>DeltaType.REMOVAL</td>\n      <td>None</td>\n    </tr>\n    <tr>\n      <th>18</th>\n      <td>m1</td>\n      <td>inputs.m3.components.0.amount.moles.units</td>\n      <td>DeltaType.REMOVAL</td>\n      <td>None</td>\n    </tr>\n    <tr>\n      <th>19</th>\n      <td>m1</td>\n      <td>inputs.m3.components.0.reactionRole</td>\n      <td>DeltaType.REMOVAL</td>\n      <td>None</td>\n    </tr>\n    <tr>\n      <th>20</th>\n      <td>m1</td>\n      <td>conditions.stirring.type</td>\n      <td>None</td>\n      <td>None</td>\n    </tr>\n    <tr>\n      <th>21</th>\n      <td>m1</td>\n      <td>conditions.stirring.details</td>\n      <td>None</td>\n      <td>None</td>\n    </tr>\n    <tr>\n      <th>22</th>\n      <td>m1</td>\n      <td>conditions.conditionsAreDynamic</td>\n      <td>None</td>\n      <td>None</td>\n    </tr>\n    <tr>\n      <th>23</th>\n      <td>m1</td>\n      <td>workups.0.type</td>\n      <td>None</td>\n      <td>None</td>\n    </tr>\n    <tr>\n      <th>24</th>\n      <td>m1</td>\n      <td>workups.1.type</td>\n      <td>None</td>\n      <td>None</td>\n    </tr>\n    <tr>\n      <th>25</th>\n      <td>m1</td>\n      <td>outcomes.0.reactionTime.value</td>\n      <td>None</td>\n      <td>None</td>\n    </tr>\n    <tr>\n      <th>26</th>\n      <td>m1</td>\n      <td>outcomes.0.reactionTime.units</td>\n      <td>None</td>\n      <td>None</td>\n    </tr>\n    <tr>\n      <th>27</th>\n      <td>m1</td>\n      <td>outcomes.0.products.0.identifiers.0.type</td>\n      <td>None</td>\n      <td>None</td>\n    </tr>\n    <tr>\n      <th>28</th>\n      <td>m1</td>\n      <td>outcomes.0.products.0.identifiers.0.value</td>\n      <td>None</td>\n      <td>None</td>\n    </tr>\n    <tr>\n      <th>29</th>\n      <td>m1</td>\n      <td>outcomes.0.products.0.measurements.0.type</td>\n      <td>None</td>\n      <td>None</td>\n    </tr>\n    <tr>\n      <th>30</th>\n      <td>m1</td>\n      <td>outcomes.0.products.0.measurements.0.details</td>\n      <td>None</td>\n      <td>None</td>\n    </tr>\n    <tr>\n      <th>31</th>\n      <td>m1</td>\n      <td>outcomes.0.products.0.measurements.0.amount.ma...</td>\n      <td>None</td>\n      <td>None</td>\n    </tr>\n    <tr>\n      <th>32</th>\n      <td>m1</td>\n      <td>outcomes.0.products.0.measurements.0.amount.ma...</td>\n      <td>None</td>\n      <td>None</td>\n    </tr>\n    <tr>\n      <th>33</th>\n      <td>m1</td>\n      <td>outcomes.0.products.0.measurements.1.type</td>\n      <td>None</td>\n      <td>None</td>\n    </tr>\n    <tr>\n      <th>34</th>\n      <td>m1</td>\n      <td>outcomes.0.products.0.measurements.1.details</td>\n      <td>None</td>\n      <td>None</td>\n    </tr>\n    <tr>\n      <th>35</th>\n      <td>m1</td>\n      <td>outcomes.0.products.0.measurements.1.percentag...</td>\n      <td>None</td>\n      <td>None</td>\n    </tr>\n    <tr>\n      <th>36</th>\n      <td>m1</td>\n      <td>outcomes.0.products.0.isolatedColor</td>\n      <td>None</td>\n      <td>None</td>\n    </tr>\n    <tr>\n      <th>37</th>\n      <td>m1</td>\n      <td>outcomes.0.products.0.texture.type</td>\n      <td>None</td>\n      <td>None</td>\n    </tr>\n    <tr>\n      <th>38</th>\n      <td>m1</td>\n      <td>outcomes.0.products.0.texture.details</td>\n      <td>None</td>\n      <td>None</td>\n    </tr>\n    <tr>\n      <th>39</th>\n      <td>m1</td>\n      <td>outcomes.0.products.0.reactionRole</td>\n      <td>None</td>\n      <td>None</td>\n    </tr>\n    <tr>\n      <th>40</th>\n      <td>m2</td>\n      <td>inputs.m4.components.0.identifiers.0.type</td>\n      <td>DeltaType.ADDITION</td>\n      <td>None</td>\n    </tr>\n    <tr>\n      <th>41</th>\n      <td>m2</td>\n      <td>inputs.m4.components.0.identifiers.0.value</td>\n      <td>DeltaType.ADDITION</td>\n      <td>None</td>\n    </tr>\n    <tr>\n      <th>42</th>\n      <td>m2</td>\n      <td>inputs.m4.components.0.amount.moles.value</td>\n      <td>DeltaType.ADDITION</td>\n      <td>None</td>\n    </tr>\n    <tr>\n      <th>43</th>\n      <td>m2</td>\n      <td>inputs.m4.components.0.amount.moles.units</td>\n      <td>DeltaType.ADDITION</td>\n      <td>None</td>\n    </tr>\n    <tr>\n      <th>44</th>\n      <td>m2</td>\n      <td>inputs.m4.components.0.reactionRole</td>\n      <td>DeltaType.ADDITION</td>\n      <td>None</td>\n    </tr>\n    <tr>\n      <th>45</th>\n      <td>m2</td>\n      <td>inputs.m1_m3.components.0.identifiers.0.type</td>\n      <td>DeltaType.ADDITION</td>\n      <td>None</td>\n    </tr>\n    <tr>\n      <th>46</th>\n      <td>m2</td>\n      <td>inputs.m1_m3.components.0.identifiers.0.value</td>\n      <td>DeltaType.ADDITION</td>\n      <td>None</td>\n    </tr>\n    <tr>\n      <th>47</th>\n      <td>m2</td>\n      <td>inputs.m1_m3.components.0.amount.mass.value</td>\n      <td>DeltaType.ADDITION</td>\n      <td>None</td>\n    </tr>\n    <tr>\n      <th>48</th>\n      <td>m2</td>\n      <td>inputs.m1_m3.components.0.amount.mass.units</td>\n      <td>DeltaType.ADDITION</td>\n      <td>None</td>\n    </tr>\n    <tr>\n      <th>49</th>\n      <td>m2</td>\n      <td>inputs.m1_m3.components.0.reactionRole</td>\n      <td>DeltaType.ADDITION</td>\n      <td>None</td>\n    </tr>\n    <tr>\n      <th>50</th>\n      <td>m2</td>\n      <td>inputs.m1_m3.components.1.identifiers.0.type</td>\n      <td>DeltaType.ADDITION</td>\n      <td>None</td>\n    </tr>\n    <tr>\n      <th>51</th>\n      <td>m2</td>\n      <td>inputs.m1_m3.components.1.identifiers.0.value</td>\n      <td>DeltaType.ADDITION</td>\n      <td>None</td>\n    </tr>\n    <tr>\n      <th>52</th>\n      <td>m2</td>\n      <td>inputs.m1_m3.components.1.amount.volume.value</td>\n      <td>DeltaType.ADDITION</td>\n      <td>None</td>\n    </tr>\n    <tr>\n      <th>53</th>\n      <td>m2</td>\n      <td>inputs.m1_m3.components.1.amount.volume.units</td>\n      <td>DeltaType.ADDITION</td>\n      <td>None</td>\n    </tr>\n    <tr>\n      <th>54</th>\n      <td>m2</td>\n      <td>inputs.m1_m3.components.1.reactionRole</td>\n      <td>DeltaType.ADDITION</td>\n      <td>None</td>\n    </tr>\n    <tr>\n      <th>55</th>\n      <td>m2</td>\n      <td>outcomes.0.products.0.measurements.2.type</td>\n      <td>DeltaType.ADDITION</td>\n      <td>None</td>\n    </tr>\n    <tr>\n      <th>56</th>\n      <td>m2</td>\n      <td>outcomes.0.products.0.measurements.2.details</td>\n      <td>DeltaType.ADDITION</td>\n      <td>None</td>\n    </tr>\n    <tr>\n      <th>57</th>\n      <td>m2</td>\n      <td>outcomes.0.products.0.measurements.2.percentag...</td>\n      <td>DeltaType.ADDITION</td>\n      <td>None</td>\n    </tr>\n  </tbody>\n</table>\n</div>"
     },
     "execution_count": 4,
     "metadata": {},
     "output_type": "execute_result"
    }
   ],
   "source": [
    "# we can also directly compare two reactions\n",
    "# this may not be very useful: in `Reaction.inputs` the keys are arbitrary assigned\n",
    "from ord_diff.report import report_diff\n",
    "diff = MDictDiff.from_message_pair(reaction_1, reaction_2, message_type=MessageType.REACTION)\n",
    "df = report_diff(diff, message_type=MessageType.REACTION)\n",
    "df"
   ],
   "metadata": {
    "collapsed": false,
    "ExecuteTime": {
     "end_time": "2023-10-16T13:01:30.547387246Z",
     "start_time": "2023-10-16T13:01:30.501433563Z"
    }
   },
   "id": "80ed3a031ed97306"
  },
  {
   "cell_type": "code",
   "execution_count": 5,
   "outputs": [
    {
     "name": "stdout",
     "output_type": "stream",
     "text": [
      "[type: CUSTOM\n",
      ", type: FILTRATION\n",
      "]\n",
      "[type: CUSTOM\n",
      ", type: FILTRATION\n",
      "]\n"
     ]
    },
    {
     "data": {
      "text/plain": "  from  path change_type is_explicit  pair_index\n0   m1  type        None        None           0\n1   m1  type        None        None           1",
      "text/html": "<div>\n<style scoped>\n    .dataframe tbody tr th:only-of-type {\n        vertical-align: middle;\n    }\n\n    .dataframe tbody tr th {\n        vertical-align: top;\n    }\n\n    .dataframe thead th {\n        text-align: right;\n    }\n</style>\n<table border=\"1\" class=\"dataframe\">\n  <thead>\n    <tr style=\"text-align: right;\">\n      <th></th>\n      <th>from</th>\n      <th>path</th>\n      <th>change_type</th>\n      <th>is_explicit</th>\n      <th>pair_index</th>\n    </tr>\n  </thead>\n  <tbody>\n    <tr>\n      <th>0</th>\n      <td>m1</td>\n      <td>type</td>\n      <td>None</td>\n      <td>None</td>\n      <td>0</td>\n    </tr>\n    <tr>\n      <th>1</th>\n      <td>m1</td>\n      <td>type</td>\n      <td>None</td>\n      <td>None</td>\n      <td>1</td>\n    </tr>\n  </tbody>\n</table>\n</div>"
     },
     "execution_count": 5,
     "metadata": {},
     "output_type": "execute_result"
    }
   ],
   "source": [
    "# compare two workup lists\n",
    "diff = MDictListDiff.from_message_list_pair(reaction_1.workups, reaction_2.workups, message_type=MessageType.REACTION_WORKUP)\n",
    "\n",
    "df = report_diff_list(diff, message_type=MessageType.REACTION_WORKUP)\n",
    "print(reaction_1.workups)\n",
    "print(reaction_2.workups)\n",
    "df\n"
   ],
   "metadata": {
    "collapsed": false,
    "ExecuteTime": {
     "end_time": "2023-10-16T13:01:30.547731449Z",
     "start_time": "2023-10-16T13:01:30.542583273Z"
    }
   },
   "id": "6b84b6c23f75c53b"
  }
 ],
 "metadata": {
  "kernelspec": {
   "display_name": "Python 3",
   "language": "python",
   "name": "python3"
  },
  "language_info": {
   "codemirror_mode": {
    "name": "ipython",
    "version": 2
   },
   "file_extension": ".py",
   "mimetype": "text/x-python",
   "name": "python",
   "nbconvert_exporter": "python",
   "pygments_lexer": "ipython2",
   "version": "2.7.6"
  }
 },
 "nbformat": 4,
 "nbformat_minor": 5
}
